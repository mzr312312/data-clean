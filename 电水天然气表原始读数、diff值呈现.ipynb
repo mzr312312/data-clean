{
 "cells": [
  {
   "cell_type": "code",
   "execution_count": 1,
   "id": "6f9665a7-a2f7-438c-b47a-6a1eee8ab269",
   "metadata": {},
   "outputs": [
    {
     "data": {
      "text/html": [
       "        <script type=\"text/javascript\">\n",
       "        window.PlotlyConfig = {MathJaxConfig: 'local'};\n",
       "        if (window.MathJax && window.MathJax.Hub && window.MathJax.Hub.Config) {window.MathJax.Hub.Config({SVG: {font: \"STIX-Web\"}});}\n",
       "        if (typeof require !== 'undefined') {\n",
       "        require.undef(\"plotly\");\n",
       "        requirejs.config({\n",
       "            paths: {\n",
       "                'plotly': ['https://cdn.plot.ly/plotly-2.35.2.min']\n",
       "            }\n",
       "        });\n",
       "        require(['plotly'], function(Plotly) {\n",
       "            window._Plotly = Plotly;\n",
       "        });\n",
       "        }\n",
       "        </script>\n",
       "        "
      ]
     },
     "metadata": {},
     "output_type": "display_data"
    },
    {
     "ename": "FileNotFoundError",
     "evalue": "[Errno 2] No such file or directory: 'result_df_electricity.pkl'",
     "output_type": "error",
     "traceback": [
      "\u001b[1;31m---------------------------------------------------------------------------\u001b[0m",
      "\u001b[1;31mFileNotFoundError\u001b[0m                         Traceback (most recent call last)",
      "Cell \u001b[1;32mIn[1], line 13\u001b[0m\n\u001b[0;32m     10\u001b[0m py\u001b[38;5;241m.\u001b[39minit_notebook_mode(connected\u001b[38;5;241m=\u001b[39m\u001b[38;5;28;01mTrue\u001b[39;00m)\n\u001b[0;32m     12\u001b[0m \u001b[38;5;66;03m# 从.pkl文件读取原始数据\u001b[39;00m\n\u001b[1;32m---> 13\u001b[0m result_df \u001b[38;5;241m=\u001b[39m \u001b[43mpd\u001b[49m\u001b[38;5;241;43m.\u001b[39;49m\u001b[43mread_pickle\u001b[49m\u001b[43m(\u001b[49m\u001b[38;5;124;43m'\u001b[39;49m\u001b[38;5;124;43mresult_df_electricity.pkl\u001b[39;49m\u001b[38;5;124;43m'\u001b[39;49m\u001b[43m)\u001b[49m\n\u001b[0;32m     14\u001b[0m \u001b[38;5;28mprint\u001b[39m(result_df)\n\u001b[0;32m     16\u001b[0m \u001b[38;5;66;03m# 获取不重复的tagCode并存储在列表中\u001b[39;00m\n",
      "File \u001b[1;32mC:\\Python 安装\\Lib\\site-packages\\pandas\\io\\pickle.py:185\u001b[0m, in \u001b[0;36mread_pickle\u001b[1;34m(filepath_or_buffer, compression, storage_options)\u001b[0m\n\u001b[0;32m    123\u001b[0m \u001b[38;5;250m\u001b[39m\u001b[38;5;124;03m\"\"\"\u001b[39;00m\n\u001b[0;32m    124\u001b[0m \u001b[38;5;124;03mLoad pickled pandas object (or any object) from file.\u001b[39;00m\n\u001b[0;32m    125\u001b[0m \n\u001b[1;32m   (...)\u001b[0m\n\u001b[0;32m    182\u001b[0m \u001b[38;5;124;03m4    4    9\u001b[39;00m\n\u001b[0;32m    183\u001b[0m \u001b[38;5;124;03m\"\"\"\u001b[39;00m\n\u001b[0;32m    184\u001b[0m excs_to_catch \u001b[38;5;241m=\u001b[39m (\u001b[38;5;167;01mAttributeError\u001b[39;00m, \u001b[38;5;167;01mImportError\u001b[39;00m, \u001b[38;5;167;01mModuleNotFoundError\u001b[39;00m, \u001b[38;5;167;01mTypeError\u001b[39;00m)\n\u001b[1;32m--> 185\u001b[0m \u001b[38;5;28;01mwith\u001b[39;00m \u001b[43mget_handle\u001b[49m\u001b[43m(\u001b[49m\n\u001b[0;32m    186\u001b[0m \u001b[43m    \u001b[49m\u001b[43mfilepath_or_buffer\u001b[49m\u001b[43m,\u001b[49m\n\u001b[0;32m    187\u001b[0m \u001b[43m    \u001b[49m\u001b[38;5;124;43m\"\u001b[39;49m\u001b[38;5;124;43mrb\u001b[39;49m\u001b[38;5;124;43m\"\u001b[39;49m\u001b[43m,\u001b[49m\n\u001b[0;32m    188\u001b[0m \u001b[43m    \u001b[49m\u001b[43mcompression\u001b[49m\u001b[38;5;241;43m=\u001b[39;49m\u001b[43mcompression\u001b[49m\u001b[43m,\u001b[49m\n\u001b[0;32m    189\u001b[0m \u001b[43m    \u001b[49m\u001b[43mis_text\u001b[49m\u001b[38;5;241;43m=\u001b[39;49m\u001b[38;5;28;43;01mFalse\u001b[39;49;00m\u001b[43m,\u001b[49m\n\u001b[0;32m    190\u001b[0m \u001b[43m    \u001b[49m\u001b[43mstorage_options\u001b[49m\u001b[38;5;241;43m=\u001b[39;49m\u001b[43mstorage_options\u001b[49m\u001b[43m,\u001b[49m\n\u001b[0;32m    191\u001b[0m \u001b[43m\u001b[49m\u001b[43m)\u001b[49m \u001b[38;5;28;01mas\u001b[39;00m handles:\n\u001b[0;32m    192\u001b[0m     \u001b[38;5;66;03m# 1) try standard library Pickle\u001b[39;00m\n\u001b[0;32m    193\u001b[0m     \u001b[38;5;66;03m# 2) try pickle_compat (older pandas version) to handle subclass changes\u001b[39;00m\n\u001b[0;32m    194\u001b[0m     \u001b[38;5;66;03m# 3) try pickle_compat with latin-1 encoding upon a UnicodeDecodeError\u001b[39;00m\n\u001b[0;32m    196\u001b[0m     \u001b[38;5;28;01mtry\u001b[39;00m:\n\u001b[0;32m    197\u001b[0m         \u001b[38;5;66;03m# TypeError for Cython complaints about object.__new__ vs Tick.__new__\u001b[39;00m\n\u001b[0;32m    198\u001b[0m         \u001b[38;5;28;01mtry\u001b[39;00m:\n",
      "File \u001b[1;32mC:\\Python 安装\\Lib\\site-packages\\pandas\\io\\common.py:882\u001b[0m, in \u001b[0;36mget_handle\u001b[1;34m(path_or_buf, mode, encoding, compression, memory_map, is_text, errors, storage_options)\u001b[0m\n\u001b[0;32m    873\u001b[0m         handle \u001b[38;5;241m=\u001b[39m \u001b[38;5;28mopen\u001b[39m(\n\u001b[0;32m    874\u001b[0m             handle,\n\u001b[0;32m    875\u001b[0m             ioargs\u001b[38;5;241m.\u001b[39mmode,\n\u001b[1;32m   (...)\u001b[0m\n\u001b[0;32m    878\u001b[0m             newline\u001b[38;5;241m=\u001b[39m\u001b[38;5;124m\"\u001b[39m\u001b[38;5;124m\"\u001b[39m,\n\u001b[0;32m    879\u001b[0m         )\n\u001b[0;32m    880\u001b[0m     \u001b[38;5;28;01melse\u001b[39;00m:\n\u001b[0;32m    881\u001b[0m         \u001b[38;5;66;03m# Binary mode\u001b[39;00m\n\u001b[1;32m--> 882\u001b[0m         handle \u001b[38;5;241m=\u001b[39m \u001b[38;5;28;43mopen\u001b[39;49m\u001b[43m(\u001b[49m\u001b[43mhandle\u001b[49m\u001b[43m,\u001b[49m\u001b[43m \u001b[49m\u001b[43mioargs\u001b[49m\u001b[38;5;241;43m.\u001b[39;49m\u001b[43mmode\u001b[49m\u001b[43m)\u001b[49m\n\u001b[0;32m    883\u001b[0m     handles\u001b[38;5;241m.\u001b[39mappend(handle)\n\u001b[0;32m    885\u001b[0m \u001b[38;5;66;03m# Convert BytesIO or file objects passed with an encoding\u001b[39;00m\n",
      "\u001b[1;31mFileNotFoundError\u001b[0m: [Errno 2] No such file or directory: 'result_df_electricity.pkl'"
     ]
    }
   ],
   "source": [
    "import plotly.express as px\n",
    "import numpy as np\n",
    "import pandas as pd\n",
    "from scipy import stats\n",
    "import plotly.graph_objects as go\n",
    "from plotly.subplots import make_subplots  # 导入 make_subplots\n",
    "\n",
    "# 下面这两行是使用jupyter notebook的时候，用于在notebook中显示图表的设置\n",
    "import plotly.offline as py\n",
    "py.init_notebook_mode(connected=True)\n",
    "\n",
    "# 从.pkl文件读取原始数据\n",
    "result_df = pd.read_pickle('result_df_electricity.pkl')\n",
    "print(result_df)\n",
    "\n",
    "# 获取不重复的tagCode并存储在列表中\n",
    "tag_codes = result_df['tagCode'].unique().tolist()\n",
    "\n",
    "# 创建一个ExcelWriter对象\n",
    "with pd.ExcelWriter('tag_code_analysis.xlsx') as writer:\n",
    "    # 针对每一个不重复的tagCode，生成一个dataframe，进行处理\n",
    "    for tag_code in tag_codes:\n",
    "        # 生成对应tagCode的数据框\n",
    "        tag_df = result_df[result_df['tagCode'] == tag_code].copy()\n",
    "\n",
    "        # 读取tagValue，新增一个diff列\n",
    "        tag_df['diff'] = tag_df['tagValue'].diff().fillna(0).astype(float)\n",
    "\n",
    "        # 计算z-score、平均值、中位数、标准差\n",
    "        diff_without_first = tag_df['diff'][1:]\n",
    "        z_scores = stats.zscore(diff_without_first)\n",
    "\n",
    "        # 将Z-Score添加到DataFrame中\n",
    "        tag_df['z_score'] = np.nan\n",
    "        tag_df.loc[1:, 'z_score'] = z_scores\n",
    "\n",
    "        mean_diff = np.mean(diff_without_first)\n",
    "        median_diff = np.median(diff_without_first)\n",
    "        std_dev_diff = np.std(diff_without_first)\n",
    "\n",
    "        # 打印输出当前的dataframe及统计结果\n",
    "        print(f\"Tag Code: {tag_code}\")\n",
    "        print(tag_df)\n",
    "        print(f\"平均值: {mean_diff}, 中位数: {median_diff}, 标准差: {std_dev_diff}\")\n",
    "        print(\"=\" * 50)\n",
    "\n",
    "        # 将当前tag_df写入Excel的对应sheet\n",
    "        tag_df.to_excel(writer, sheet_name=str(tag_code), index=False)\n",
    "\n",
    "        # 使用 Plotly 绘制图表\n",
    "        fig = make_subplots(rows=1, cols=1, specs=[[{\"secondary_y\": True}]])  # 创建单个子图，带有副Y轴\n",
    "\n",
    "        # 添加 tagValue 曲线到主坐标轴\n",
    "        fig.add_trace(go.Scatter(x=tag_df['time'], y=tag_df['tagValue'], mode='lines', name='Tag Value',\n",
    "                                 line=dict(color='blue')), secondary_y=False)\n",
    "\n",
    "        # 添加 diff 曲线到副坐标轴\n",
    "        fig.add_trace(go.Scatter(x=tag_df['time'], y=tag_df['diff'], mode='lines', name='Diff',\n",
    "                                 line=dict(color='orange')), secondary_y=True)\n",
    "\n",
    "        # 更新布局\n",
    "        fig.update_layout(\n",
    "            title=f'Tag Code: {tag_code} 变化趋势',\n",
    "            xaxis_title='时间',\n",
    "            legend_title='指标',\n",
    "            template='plotly_white'\n",
    "        )\n",
    "\n",
    "        # 设置主坐标轴和副坐标轴的标题\n",
    "        fig.update_yaxes(title_text=\"Tag Value\", secondary_y=False)\n",
    "        fig.update_yaxes(title_text=\"Diff\", secondary_y=True)\n",
    "\n",
    "        # 设置主坐标轴和副坐标轴的范围\n",
    "        fig.update_yaxes(range=[tag_df['tagValue'].min(), tag_df['tagValue'].max()], secondary_y=False)\n",
    "        fig.update_yaxes(range=[tag_df['diff'].min(), tag_df['diff'].max()], secondary_y=True)\n",
    "\n",
    "        # 显示图表\n",
    "        fig.show()\n",
    "        # fig.write_image(f\"{tag_code}.png\")  # 保存图表为图片"
   ]
  },
  {
   "cell_type": "code",
   "execution_count": null,
   "id": "1977825b-67c2-4fe2-840c-55ee052043ee",
   "metadata": {},
   "outputs": [],
   "source": []
  }
 ],
 "metadata": {
  "kernelspec": {
   "display_name": "Python 3 (ipykernel)",
   "language": "python",
   "name": "python3"
  },
  "language_info": {
   "codemirror_mode": {
    "name": "ipython",
    "version": 3
   },
   "file_extension": ".py",
   "mimetype": "text/x-python",
   "name": "python",
   "nbconvert_exporter": "python",
   "pygments_lexer": "ipython3",
   "version": "3.12.5"
  }
 },
 "nbformat": 4,
 "nbformat_minor": 5
}
